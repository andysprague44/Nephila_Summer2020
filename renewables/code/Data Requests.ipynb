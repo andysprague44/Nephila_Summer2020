{
 "cells": [
  {
   "cell_type": "markdown",
   "metadata": {},
   "source": [
    "Can you provide the following monthly forwards please (for each of the ERCOT regions) for every combination of as-of and term date?:\n",
    "\n",
    "As-of dates: 2019-09-01, 2019-10-01, 2019-11-01, 2019-12-01, 2020-01-01, 2020-02-01, 2020-03-01, 2020-04-01, 2020-05-01, 2020-06-01, 2020-07-01\n",
    "\n",
    "Term dates: 2020-07-01, 2020-08-01 …  the first of each of the months through 2021-06-01\n",
    "\n",
    " \n",
    " \n",
    "## two\n",
    "\n",
    "As-of dates: April 1 – today\n",
    "\n",
    "Term dates: July 2022-June 2032\n",
    "\n",
    " \n",
    "\n",
    "And/or is there any way you could quickly aggregate up to an annual (with a year defined as July-June) ATC price (i.e. take the average of all the monthly ATC prices within a year) and look at the same dates (but predicting the annual ATC price) instead of the monthly on/off peak?\n",
    "\n",
    "\n"
   ]
  },
  {
   "cell_type": "code",
   "execution_count": 22,
   "metadata": {},
   "outputs": [],
   "source": [
    "import pandas as pd\n"
   ]
  },
  {
   "cell_type": "code",
   "execution_count": 23,
   "metadata": {},
   "outputs": [],
   "source": [
    "rth = pd.read_csv('/Users/jiyoojeong/desktop/c/nephila/renewables/realtime_forwards_ercot.csv')\n",
    "h = pd.read_csv('/Users/jiyoojeong/desktop/c/nephila/renewables/ercot_all_ATC2.csv')\n",
    "rth['AsOfDate'] = pd.to_datetime(rth['AsOfDate'])\n",
    "rth['Term'] = pd.to_datetime(rth['Term'])\n",
    "h['AsOfDate'] = pd.to_datetime(h['AsOfDate'])\n",
    "h['Term'] = pd.to_datetime(h['Term'])"
   ]
  },
  {
   "cell_type": "code",
   "execution_count": 27,
   "metadata": {},
   "outputs": [],
   "source": [
    "asofdates1 = ['2019-09-01','2020-08-01']\n",
    "\n",
    "terms1 = ['2020-07-01', '2021-06-30'] # through\n",
    "\n",
    "asofdates2 = ['2020-04-01', '2020-07-01'] #through\n",
    "terms2 = ['07-01-2022', '06-30-2032']\n",
    "\n"
   ]
  },
  {
   "cell_type": "code",
   "execution_count": 28,
   "metadata": {},
   "outputs": [],
   "source": [
    "h2= h[(h['AsOfDate']>=asofdates1[0]) & (h['AsOfDate']<=asofdates1[1]) & (h['Term'] >= terms1[0]) & (h['Term']<=terms1[1])]#['Peak'].value_counts()\n"
   ]
  },
  {
   "cell_type": "code",
   "execution_count": 29,
   "metadata": {},
   "outputs": [],
   "source": [
    "h3= h[(h['AsOfDate']>=asofdates2[0]) & (h['AsOfDate']<=asofdates2[1]) & (h['Term'] >= terms2[0]) & (h['Term']<=terms2[1])]#['Peak'].value_counts()\n"
   ]
  },
  {
   "cell_type": "code",
   "execution_count": 30,
   "metadata": {},
   "outputs": [
    {
     "name": "stderr",
     "output_type": "stream",
     "text": [
      "<ipython-input-30-9b1a4569de0f>:1: SettingWithCopyWarning: \n",
      "A value is trying to be set on a copy of a slice from a DataFrame.\n",
      "Try using .loc[row_indexer,col_indexer] = value instead\n",
      "\n",
      "See the caveats in the documentation: https://pandas.pydata.org/pandas-docs/stable/user_guide/indexing.html#returning-a-view-versus-a-copy\n",
      "  h2['asofmonth'] = h2['AsOfDate'].dt.month\n",
      "<ipython-input-30-9b1a4569de0f>:2: SettingWithCopyWarning: \n",
      "A value is trying to be set on a copy of a slice from a DataFrame.\n",
      "Try using .loc[row_indexer,col_indexer] = value instead\n",
      "\n",
      "See the caveats in the documentation: https://pandas.pydata.org/pandas-docs/stable/user_guide/indexing.html#returning-a-view-versus-a-copy\n",
      "  h3['asofmonth'] = h3['AsOfDate'].dt.month\n"
     ]
    }
   ],
   "source": [
    "h2['asofmonth'] = h2['AsOfDate'].dt.month\n",
    "h3['asofmonth'] = h3['AsOfDate'].dt.month"
   ]
  },
  {
   "cell_type": "code",
   "execution_count": 31,
   "metadata": {},
   "outputs": [],
   "source": [
    "import matplotlib.pyplot as plt"
   ]
  },
  {
   "cell_type": "code",
   "execution_count": 33,
   "metadata": {},
   "outputs": [
    {
     "data": {
      "text/plain": [
       "(array([18353., 18367., 18383., 18397., 18414., 18428., 18444.]),\n",
       " [Text(0, 0, ''),\n",
       "  Text(0, 0, ''),\n",
       "  Text(0, 0, ''),\n",
       "  Text(0, 0, ''),\n",
       "  Text(0, 0, ''),\n",
       "  Text(0, 0, ''),\n",
       "  Text(0, 0, '')])"
      ]
     },
     "execution_count": 33,
     "metadata": {},
     "output_type": "execute_result"
    },
    {
     "data": {
      "image/png": "[encoded data removed]",
      "text/plain": [
       "<Figure size 432x288 with 1 Axes>"
      ]
     },
     "metadata": {
      "needs_background": "light"
     },
     "output_type": "display_data"
    }
   ],
   "source": [
    "h3.plot('AsOfDate', 'Term', 'scatter')\n",
    "plt.xticks(rotation=90)"
   ]
  },
  {
   "cell_type": "code",
   "execution_count": 34,
   "metadata": {},
   "outputs": [],
   "source": [
    "h2.to_csv('Ercot_asof09012019to07012020.csv')\n",
    "h3.to_csv('Ercot_asof04012020tolatest.csv')"
   ]
  },
  {
   "cell_type": "code",
   "execution_count": null,
   "metadata": {},
   "outputs": [],
   "source": []
  }
 ],
 "metadata": {
  "kernelspec": {
   "display_name": "Python 3",
   "language": "python",
   "name": "python3"
  },
  "language_info": {
   "codemirror_mode": {
    "name": "ipython",
    "version": 3
   },
   "file_extension": ".py",
   "mimetype": "text/x-python",
   "name": "python",
   "nbconvert_exporter": "python",
   "pygments_lexer": "ipython3",
   "version": "3.8.5"
  }
 },
 "nbformat": 4,
 "nbformat_minor": 4
}
